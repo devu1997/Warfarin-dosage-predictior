{
 "cells": [
  {
   "cell_type": "code",
   "execution_count": 15,
   "metadata": {},
   "outputs": [
    {
     "name": "stdout",
     "output_type": "stream",
     "text": [
      "Coefficients: \n",
      " [[-0.09605197  0.4203215   0.00894511  0.0722733   0.21570946 -1.06270034]\n",
      " [ 0.27222011 -0.61794072  0.0418685  -0.09685749  0.11773541 -1.0753882 ]\n",
      " [-0.14192593 -0.41836544 -0.00998848 -0.06864572  0.2705705  -0.42581042]\n",
      " [ 0.27962704  0.64742975 -0.00685058  0.22979582 -0.41507038 -0.30324162]\n",
      " [-0.45127381  0.36374037 -0.00966553 -0.63806414  0.8812924  -0.15648847]\n",
      " [-0.10785076 -0.77971449 -0.00122583  0.17482383 -0.79066605 -0.05377822]\n",
      " [ 0.72025595 -0.80841113 -0.05380482 -0.02389783 -0.19795312  0.26687994]\n",
      " [-0.67753975 -0.78526367 -0.00441595 -0.70790863 -0.73613856  0.44152489]\n",
      " [ 0.30500197 -0.04984051 -0.02446438 -0.88548005 -0.87720058  0.3277639 ]\n",
      " [-0.22356725  0.54440759 -0.11080835  0.29192884 -0.98376146  0.34095406]]\n",
      "Variance score: 0.26666666666666666\n",
      "Mean Squared Error of test data:  2.6666666666666665\n",
      "Mean Squared Error of train data:  2.0\n",
      "Real new dose :  [ 4.  8.  5.  2.  6.  6. 12.  4. 10.  6.  8.  7.  3.  4. 12.]\n",
      "Predicted new dose :  [ 3.  6.  6.  5.  6.  6. 10.  6. 10.  8.  8.  6.  5.  6. 10.]\n"
     ]
    },
    {
     "data": {
      "image/png": "[encoded data removed]",
      "text/plain": [
       "<matplotlib.figure.Figure at 0x19921a01470>"
      ]
     },
     "metadata": {},
     "output_type": "display_data"
    }
   ],
   "source": [
    "import matplotlib.pyplot as plt \n",
    "import numpy as np \n",
    "from sklearn import datasets, linear_model, metrics\n",
    "import csv\n",
    "from copy import deepcopy\n",
    "\n",
    "def load_csv(filename):\n",
    "    raw_data = open(filename, 'rt')\n",
    "    reader = csv.reader(raw_data, delimiter=',', quoting=csv.QUOTE_NONE)\n",
    "    x = list(reader)\n",
    "    data = np.array(x).astype('float')\n",
    "    return data\n",
    "    \n",
    "def splitDataset(dataset, splitratio):\n",
    "    trainsize = int(np.round(dataset.shape[0]*splitratio))\n",
    "    trainset = np.zeros((trainsize,dataset.shape[1]))#array to store the training set.\n",
    "    testset = deepcopy(dataset)#create a copy of the dataset in test set.\n",
    "    for numsamples in range(trainsize):\n",
    "        indx = np.random.randint(0,testset.shape[0])#random index generation\n",
    "        trainset[numsamples,:] = testset[indx,:]#adding the randomly selected data vector to the training set\n",
    "        testset = np.delete(testset, indx, axis = 0)#delete the selected observation from the test set.\n",
    "    return trainset,testset\n",
    "\n",
    "data = load_csv('preprocessed_data.csv')\n",
    "trainset, testset = splitDataset(data,0.7)\n",
    "\n",
    "x_train = trainset[:,:-1]\n",
    "y_train = trainset[:,-1]\n",
    "\n",
    "x_test = testset[:,:-1]\n",
    "y_test = testset[:,-1]\n",
    "  \n",
    "# create linear regression object \n",
    "reg = linear_model.LogisticRegression() \n",
    "  \n",
    "# train the model using the training sets \n",
    "reg.fit(x_train, y_train) \n",
    "  \n",
    "# regression coefficients \n",
    "print('Regression coefficients: \\n', reg.coef_) \n",
    "  \n",
    "# variance score: 1 means perfect prediction \n",
    "print('Variance score: {}'.format(reg.score(x_test, y_test))) \n",
    "\n",
    "# mean squared error\n",
    "print('Mean Squared Error of test data: ', metrics.mean_squared_error(y_test, reg.predict(x_test)))\n",
    "print('Mean Squared Error of train data: ', metrics.mean_squared_error(y_train, reg.predict(x_train)))\n",
    "\n",
    "# real and predicted new dose\n",
    "print('Real new dose : ', y_test)\n",
    "print('Predicted new dose : ', reg.predict(x_test))\n",
    "# plot for residual error \n",
    "  \n",
    "## setting plot style \n",
    "plt.style.use('fivethirtyeight') \n",
    "  \n",
    "## plotting residual errors in training data \n",
    "plt.scatter(reg.predict(x_train), reg.predict(x_train) - y_train, \n",
    "            color = \"green\", s = 10, label = 'Train data') \n",
    "  \n",
    "## plotting residual errors in test data \n",
    "plt.scatter(reg.predict(x_test), reg.predict(x_test) - y_test, \n",
    "            color = \"blue\", s = 10, label = 'Test data') \n",
    "  \n",
    "## plotting line for zero residual error \n",
    "plt.hlines(y = 0, xmin = 0, xmax = 50, linewidth = 2) \n",
    "  \n",
    "## plotting legend \n",
    "plt.legend(loc = 'upper right') \n",
    "  \n",
    "## plot title \n",
    "plt.title(\"Residual errors\") \n",
    "  \n",
    "## function to show plot \n",
    "plt.show()\n"
   ]
  }
 ],
 "metadata": {
  "kernelspec": {
   "display_name": "Python 3",
   "language": "python",
   "name": "python3"
  },
  "language_info": {
   "codemirror_mode": {
    "name": "ipython",
    "version": 3
   },
   "file_extension": ".py",
   "mimetype": "text/x-python",
   "name": "python",
   "nbconvert_exporter": "python",
   "pygments_lexer": "ipython3",
   "version": "3.6.3"
  }
 },
 "nbformat": 4,
 "nbformat_minor": 2
}
