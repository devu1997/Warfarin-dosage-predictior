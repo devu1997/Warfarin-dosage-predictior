{
 "cells": [
  {
   "cell_type": "code",
   "execution_count": 4,
   "metadata": {},
   "outputs": [
    {
     "name": "stdout",
     "output_type": "stream",
     "text": [
      "Regression coefficients: \n",
      " [ 0.16544985 -0.0606119   0.00169306  0.02905694 -0.7734146   0.95707581]\n",
      "Variance score: 0.896186946771412\n",
      "Mean Squared Error of test data:  0.69024145613319\n",
      "Mean Squared Error of train data:  0.2125190362485232\n",
      "Real new dose :  [10.  5.  6.  6.  4.  8. 12.  4.  4.  6.  4.  7.  3.  8. 10.]\n",
      "Predicted new dose :  [ 9.97575463  4.31558305  5.850482    5.78554748  3.9812724   9.84675816\n",
      " 11.58112159  3.97642337  4.54833675  6.00658567  3.41414188  6.60794479\n",
      "  3.95533643  7.54670644 12.07691699]\n"
     ]
    },
    {
     "data": {
      "image/png": "[encoded data removed]",
      "text/plain": [
       "<matplotlib.figure.Figure at 0x21c67f806a0>"
      ]
     },
     "metadata": {},
     "output_type": "display_data"
    }
   ],
   "source": [
    "import matplotlib.pyplot as plt \n",
    "import numpy as np \n",
    "from sklearn import datasets, linear_model, metrics\n",
    "import csv\n",
    "from copy import deepcopy\n",
    "\n",
    "def load_csv(filename):\n",
    "    raw_data = open(filename, 'rt')\n",
    "    reader = csv.reader(raw_data, delimiter=',', quoting=csv.QUOTE_NONE)\n",
    "    x = list(reader)\n",
    "    data = np.array(x).astype('float')\n",
    "    return data\n",
    "    \n",
    "def splitDataset(dataset, splitratio):\n",
    "    trainsize = int(np.round(dataset.shape[0]*splitratio))\n",
    "    trainset = np.zeros((trainsize,dataset.shape[1]))#array to store the training set.\n",
    "    testset = deepcopy(dataset)#create a copy of the dataset in test set.\n",
    "    for numsamples in range(trainsize):\n",
    "        indx = np.random.randint(0,testset.shape[0])#random index generation\n",
    "        trainset[numsamples,:] = testset[indx,:]#adding the randomly selected data vector to the training set\n",
    "        testset = np.delete(testset, indx, axis = 0)#delete the selected observation from the test set.\n",
    "    return trainset,testset\n",
    "\n",
    "data = load_csv('preprocessed_data.csv')\n",
    "trainset, testset = splitDataset(data,0.7)\n",
    "\n",
    "x_train = trainset[:,:-1]\n",
    "y_train = trainset[:,-1]\n",
    "\n",
    "x_test = testset[:,:-1]\n",
    "y_test = testset[:,-1]\n",
    "  \n",
    "# create linear regression object \n",
    "reg = linear_model.LinearRegression() \n",
    "  \n",
    "# train the model using the training sets \n",
    "reg.fit(x_train, y_train) \n",
    "  \n",
    "# regression coefficients \n",
    "print('Regression coefficients: \\n', reg.coef_) \n",
    "  \n",
    "# variance score: 1 means perfect prediction \n",
    "print('Variance score: {}'.format(reg.score(x_test, y_test))) \n",
    "\n",
    "# mean squared error\n",
    "print('Mean Squared Error of test data: ', metrics.mean_squared_error(y_test, reg.predict(x_test)))\n",
    "print('Mean Squared Error of train data: ', metrics.mean_squared_error(y_train, reg.predict(x_train)))\n",
    "\n",
    "# real and predicted new dose\n",
    "print('Real new dose : ', y_test)\n",
    "print('Predicted new dose : ', reg.predict(x_test))\n",
    "\n",
    "# plot for residual error \n",
    "  \n",
    "## setting plot style \n",
    "plt.style.use('fivethirtyeight') \n",
    "  \n",
    "## plotting residual errors in training data \n",
    "plt.scatter(reg.predict(x_train), reg.predict(x_train) - y_train, \n",
    "            color = \"green\", s = 10, label = 'Train data') \n",
    "  \n",
    "## plotting residual errors in test data \n",
    "plt.scatter(reg.predict(x_test), reg.predict(x_test) - y_test, \n",
    "            color = \"blue\", s = 10, label = 'Test data') \n",
    "  \n",
    "## plotting line for zero residual error \n",
    "plt.hlines(y = 0, xmin = 0, xmax = 50, linewidth = 2) \n",
    "  \n",
    "## plotting legend \n",
    "plt.legend(loc = 'upper right') \n",
    "  \n",
    "## plot title \n",
    "plt.title(\"Residual errors\") \n",
    "  \n",
    "## function to show plot \n",
    "plt.show()\n"
   ]
  }
 ],
 "metadata": {
  "kernelspec": {
   "display_name": "Python 3",
   "language": "python",
   "name": "python3"
  },
  "language_info": {
   "codemirror_mode": {
    "name": "ipython",
    "version": 3
   },
   "file_extension": ".py",
   "mimetype": "text/x-python",
   "name": "python",
   "nbconvert_exporter": "python",
   "pygments_lexer": "ipython3",
   "version": "3.6.3"
  }
 },
 "nbformat": 4,
 "nbformat_minor": 2
}
