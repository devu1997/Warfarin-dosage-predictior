{
 "cells": [
  {
   "cell_type": "code",
   "execution_count": 17,
   "metadata": {},
   "outputs": [
    {
     "name": "stdout",
     "output_type": "stream",
     "text": [
      "Number of Layers: 9\n",
      "Variance score: 0.9397155195266741\n",
      "Mean Squared Error of test data:  0.617848942096\n",
      "Mean Squared Error of train data:  0.194743411576\n",
      "Real new dose :  [  4.  10.   8.   8.   3.   2.   7.  12.   4.  10.   8.   4.  12.  10.  10.]\n",
      "Predicted new dose:  [  3.72174866  10.0410735    8.27314897   8.00778792   2.71211937\n",
      "   3.30879638   7.29277535  10.59797139   4.30368644   8.11088723\n",
      "   7.18117061   3.62908282  11.27005047  10.49849955   9.87207162]\n"
     ]
    },
    {
     "data": {
      "image/png": "[encoded data removed]",
      "text/plain": [
       "<matplotlib.figure.Figure at 0x7fdc02c659b0>"
      ]
     },
     "metadata": {},
     "output_type": "display_data"
    }
   ],
   "source": [
    "import matplotlib.pyplot as plt \n",
    "import numpy as np \n",
    "from sklearn.neural_network import MLPRegressor\n",
    "from sklearn import datasets, metrics\n",
    "import csv\n",
    "from copy import deepcopy\n",
    "\n",
    "def load_csv(filename):\n",
    "    raw_data = open(filename, 'rt')\n",
    "    reader = csv.reader(raw_data, delimiter=',', quoting=csv.QUOTE_NONE)\n",
    "    x = list(reader)\n",
    "    data = np.array(x).astype('float')\n",
    "    return data\n",
    "    \n",
    "def splitDataset(dataset, splitratio):\n",
    "    trainsize = int(np.round(dataset.shape[0]*splitratio))\n",
    "    trainset = np.zeros((trainsize,dataset.shape[1]))#array to store the training set.\n",
    "    testset = deepcopy(dataset)#create a copy of the dataset in test set.\n",
    "    for numsamples in range(trainsize):\n",
    "        indx = np.random.randint(0,testset.shape[0])#random index generation\n",
    "        trainset[numsamples,:] = testset[indx,:]#adding the randomly selected data vector to the training set\n",
    "        testset = np.delete(testset, indx, axis = 0)#delete the selected observation from the test set.\n",
    "    return trainset,testset\n",
    "\n",
    "data = load_csv('preprocessed_data.csv')\n",
    "trainset, testset = splitDataset(data,0.7)\n",
    "\n",
    "x_train = trainset[:,:-1]\n",
    "y_train = trainset[:,-1]\n",
    "\n",
    "x_test = testset[:,:-1]\n",
    "y_test = testset[:,-1]\n",
    "  \n",
    "number_of_layers = 9\n",
    "    \n",
    "print('Number of Layers: %d' %(number_of_layers))\n",
    "# create ANN regression object \n",
    "reg = MLPRegressor(solver='lbfgs', alpha=1e-5,hidden_layer_sizes=(i,), random_state=1)\n",
    "\n",
    "# train the model using the training sets \n",
    "reg.fit(x_train, y_train)\n",
    "\n",
    "# variance score: 1 means perfect prediction \n",
    "print('Variance score: {}'.format(reg.score(x_test, y_test)))\n",
    "\n",
    "# mean squared error\n",
    "print('Mean Squared Error of test data: ', metrics.mean_squared_error(y_test, reg.predict(x_test)))\n",
    "print('Mean Squared Error of train data: ', metrics.mean_squared_error(y_train, reg.predict(x_train)))\n",
    "\n",
    "# real and predicted new dose\n",
    "print('Real new dose : ', y_test)\n",
    "print('Predicted new dose: ', reg.predict(x_test))\n",
    "\n",
    "# plot for residual error\n",
    "\n",
    "## setting plot style \n",
    "plt.style.use('fivethirtyeight') \n",
    "\n",
    "## plotting residual errors in training data \n",
    "plt.scatter(reg.predict(x_train), reg.predict(x_train) - y_train, \n",
    "            color = \"green\", s = 10, label = 'Train data') \n",
    "\n",
    "## plotting residual errors in test data \n",
    "plt.scatter(reg.predict(x_test), reg.predict(x_test) - y_test, \n",
    "            color = \"blue\", s = 10, label = 'Test data') \n",
    "\n",
    "## plotting line for zero residual error \n",
    "plt.hlines(y = 0, xmin = 0, xmax = 50, linewidth = 2) \n",
    "\n",
    "## plotting legend \n",
    "plt.legend(loc = 'upper right') \n",
    "\n",
    "## plot title \n",
    "plt.title(\"Residual errors\") \n",
    "\n",
    "## function to show plot \n",
    "plt.show()\n"
   ]
  }
 ],
 "metadata": {
  "kernelspec": {
   "display_name": "Python 3",
   "language": "python",
   "name": "python3"
  },
  "language_info": {
   "codemirror_mode": {
    "name": "ipython",
    "version": 3
   },
   "file_extension": ".py",
   "mimetype": "text/x-python",
   "name": "python",
   "nbconvert_exporter": "python",
   "pygments_lexer": "ipython3",
   "version": "3.6.3"
  }
 },
 "nbformat": 4,
 "nbformat_minor": 2
}
