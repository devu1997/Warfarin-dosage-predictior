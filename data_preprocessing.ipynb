{
 "cells": [
  {
   "cell_type": "code",
   "execution_count": 21,
   "metadata": {},
   "outputs": [
    {
     "name": "stdout",
     "output_type": "stream",
     "text": [
      "Error in line 1 row 0\n",
      "Error in line 24 row 5\n",
      "Error in line 33 row 5\n",
      "Error in line 35 row 5\n",
      "Error in line 41 row 6\n",
      "Error in line 46 row 0\n",
      "Error in line 54 row 5\n"
     ]
    }
   ],
   "source": [
    "import csv\n",
    "\n",
    "file_in = open('data.csv', 'rt')\n",
    "file_out = open('preprocessed_data.csv', 'wt')\n",
    "reader = csv.reader(file_in, delimiter=',', quoting=csv.QUOTE_NONE)\n",
    "writer = csv.writer(file_out, delimiter=',', quoting=csv.QUOTE_NONE, lineterminator='\\n')\n",
    "\n",
    "sex_values = {\n",
    "                'F':0,\n",
    "                'M':1,\n",
    "            }\n",
    "\n",
    "procedure_values = {\n",
    "                        'MVR':0,\n",
    "                        'AVR':1,\n",
    "                        'DVR':2,\n",
    "                        'AF':3,\n",
    "                    }\n",
    "\n",
    "for index, row in enumerate(reader):\n",
    "    try:\n",
    "        sex = sex_values[row[0]]\n",
    "        row[0] = sex\n",
    "    except:\n",
    "        print('Error in line %s row 0' %(index + 1))\n",
    "        continue\n",
    "    \n",
    "    try:\n",
    "        procedure = procedure_values[row[1]]\n",
    "        row[1] = procedure\n",
    "    except:\n",
    "        print('Error in line %s row 1' %(index + 1))\n",
    "        continue\n",
    "\n",
    "#     if len(row[5].split(',')) > 1 or len(row[6].split(',')) > 1:\n",
    "#         continue\n",
    "        \n",
    "    try:\n",
    "        old_dose = int(row[5][:-1])\n",
    "    except ValueError:\n",
    "        print('Error in line %s row 5' %(index + 1))\n",
    "        continue\n",
    "        \n",
    "    if row[5][-1] == 'A':\n",
    "        old_dose = old_dose * 2\n",
    "    row[5] = old_dose\n",
    "    \n",
    "    try:\n",
    "        new_dose = int(row[6][:-1])\n",
    "    except ValueError:\n",
    "        print('Error in line %s row 6' %(index + 1))\n",
    "        continue\n",
    "        \n",
    "    if row[6][-1] == 'A':\n",
    "        new_dose = new_dose * 2\n",
    "    row[6] = new_dose\n",
    "    \n",
    "    writer.writerow(row)\n"
   ]
  }
 ],
 "metadata": {
  "kernelspec": {
   "display_name": "Python 3",
   "language": "python",
   "name": "python3"
  },
  "language_info": {
   "codemirror_mode": {
    "name": "ipython",
    "version": 3
   },
   "file_extension": ".py",
   "mimetype": "text/x-python",
   "name": "python",
   "nbconvert_exporter": "python",
   "pygments_lexer": "ipython3",
   "version": "3.6.3"
  }
 },
 "nbformat": 4,
 "nbformat_minor": 2
}
