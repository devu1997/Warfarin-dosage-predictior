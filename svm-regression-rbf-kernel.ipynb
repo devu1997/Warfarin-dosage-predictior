{
 "cells": [
  {
   "cell_type": "code",
   "execution_count": 1,
   "metadata": {},
   "outputs": [
    {
     "name": "stdout",
     "output_type": "stream",
     "text": [
      "Variance score of rbf: 0.4660645339769517\n",
      "Mean Squared Error of test data for rbf:  6.04177642887\n",
      "Mean Squared Error of train data for rbf:  0.00912540948396\n",
      "Real new dose :  [  4.  10.   8.   5.   2.   2.  14.   6.   6.   5.  12.   4.   8.   8.   4.]\n",
      "Predicted new dose using rbf:  [ 6.76701729  8.90919624  7.18987233  5.68176768  6.76701723  3.88906529\n",
      "  7.16080503  6.36245091  6.34004349  6.57432388  9.94382305  4.53849817\n",
      "  8.39496011  7.62319986  4.22444259]\n"
     ]
    },
    {
     "data": {
      "image/png": "[encoded data removed]",
      "text/plain": [
       "<matplotlib.figure.Figure at 0x7fc4ee0f6940>"
      ]
     },
     "metadata": {},
     "output_type": "display_data"
    }
   ],
   "source": [
    "import matplotlib.pyplot as plt \n",
    "import numpy as np \n",
    "from sklearn.svm import SVR\n",
    "from sklearn import datasets, metrics\n",
    "import csv\n",
    "from copy import deepcopy\n",
    "\n",
    "def load_csv(filename):\n",
    "    raw_data = open(filename, 'rt')\n",
    "    reader = csv.reader(raw_data, delimiter=',', quoting=csv.QUOTE_NONE)\n",
    "    x = list(reader)\n",
    "    data = np.array(x).astype('float')\n",
    "    return data\n",
    "    \n",
    "def splitDataset(dataset, splitratio):\n",
    "    trainsize = int(np.round(dataset.shape[0]*splitratio))\n",
    "    trainset = np.zeros((trainsize,dataset.shape[1]))#array to store the training set.\n",
    "    testset = deepcopy(dataset)#create a copy of the dataset in test set.\n",
    "    for numsamples in range(trainsize):\n",
    "        indx = np.random.randint(0,testset.shape[0])#random index generation\n",
    "        trainset[numsamples,:] = testset[indx,:]#adding the randomly selected data vector to the training set\n",
    "        testset = np.delete(testset, indx, axis = 0)#delete the selected observation from the test set.\n",
    "    return trainset,testset\n",
    "\n",
    "data = load_csv('preprocessed_data.csv')\n",
    "trainset, testset = splitDataset(data,0.7)\n",
    "\n",
    "x_train = trainset[:,:-1]\n",
    "y_train = trainset[:,-1]\n",
    "\n",
    "x_test = testset[:,:-1]\n",
    "y_test = testset[:,-1]\n",
    "  \n",
    "# create linear regression object \n",
    "reg = SVR(kernel='rbf', C=1e3, gamma=0.1)\n",
    "  \n",
    "# train the model using the training sets \n",
    "reg.fit(x_train, y_train)\n",
    "\n",
    "# variance score: 1 means perfect prediction \n",
    "print('Variance score of rbf: {}'.format(reg.score(x_test, y_test)))\n",
    "\n",
    "# mean squared error\n",
    "print('Mean Squared Error of test data for rbf: ', metrics.mean_squared_error(y_test, reg.predict(x_test)))\n",
    "print('Mean Squared Error of train data for rbf: ', metrics.mean_squared_error(y_train, reg.predict(x_train)))\n",
    "\n",
    "# real and predicted new dose\n",
    "print('Real new dose : ', y_test)\n",
    "print('Predicted new dose using rbf: ', reg.predict(x_test))\n",
    "\n",
    "# plot for residual error of rbf\n",
    "  \n",
    "## setting plot style \n",
    "plt.style.use('fivethirtyeight') \n",
    "  \n",
    "## plotting residual errors in training data \n",
    "plt.scatter(reg.predict(x_train), reg.predict(x_train) - y_train, \n",
    "            color = \"green\", s = 10, label = 'Train data') \n",
    "  \n",
    "## plotting residual errors in test data \n",
    "plt.scatter(reg.predict(x_test), reg.predict(x_test) - y_test, \n",
    "            color = \"blue\", s = 10, label = 'Test data') \n",
    "  \n",
    "## plotting line for zero residual error \n",
    "plt.hlines(y = 0, xmin = 0, xmax = 50, linewidth = 2) \n",
    "  \n",
    "## plotting legend \n",
    "plt.legend(loc = 'upper right') \n",
    "  \n",
    "## plot title \n",
    "plt.title(\"Residual errors\") \n",
    "  \n",
    "## function to show plot \n",
    "plt.show()\n"
   ]
  }
 ],
 "metadata": {
  "kernelspec": {
   "display_name": "Python 3",
   "language": "python",
   "name": "python3"
  },
  "language_info": {
   "codemirror_mode": {
    "name": "ipython",
    "version": 3
   },
   "file_extension": ".py",
   "mimetype": "text/x-python",
   "name": "python",
   "nbconvert_exporter": "python",
   "pygments_lexer": "ipython3",
   "version": "3.6.3"
  }
 },
 "nbformat": 4,
 "nbformat_minor": 2
}
